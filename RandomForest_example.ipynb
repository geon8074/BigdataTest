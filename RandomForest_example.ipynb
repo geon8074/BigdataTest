{
  "nbformat": 4,
  "nbformat_minor": 0,
  "metadata": {
    "colab": {
      "name": "RandomForest_example",
      "provenance": [],
      "authorship_tag": "ABX9TyODzH05nxBTdbfq4J0e8LBC",
      "include_colab_link": true
    },
    "kernelspec": {
      "name": "python3",
      "display_name": "Python 3"
    },
    "language_info": {
      "name": "python"
    }
  },
  "cells": [
    {
      "cell_type": "markdown",
      "metadata": {
        "id": "view-in-github",
        "colab_type": "text"
      },
      "source": [
        "<a href=\"https://colab.research.google.com/github/geon8074/BigdataTest/blob/main/RandomForest_example.ipynb\" target=\"_parent\"><img src=\"https://colab.research.google.com/assets/colab-badge.svg\" alt=\"Open In Colab\"/></a>"
      ]
    },
    {
      "cell_type": "code",
      "execution_count": null,
      "metadata": {
        "id": "v5mBNiMBBmGV"
      },
      "outputs": [],
      "source": [
        "# 문제에서 파일경로는 기본제시\n",
        "x_train=pd.read_csv('X_train_path.csv')\n",
        "x_test=pd.read_csv('X_test_path.csv')\n",
        "y_train=pd.read_csv('Y_train_path.csv')"
      ]
    },
    {
      "cell_type": "code",
      "source": [
        "# import\n",
        "import pandas as pd\n",
        "import numpy as np\n",
        "import sklearn\n",
        "\n",
        "# 회귀일경우에는 RandomForestRegressor사용\n",
        "from sklearn.preprocessing import LabelEncoder\n",
        "from sklearn.model_selection import train_test_split\n",
        "from sklearn.ensemble import RandomForestClassifier\n",
        "from sklearn.metrics import roc_auc_score"
      ],
      "metadata": {
        "id": "QIYjwzpFDgpJ"
      },
      "execution_count": null,
      "outputs": []
    },
    {
      "cell_type": "code",
      "source": [
        "# x,y 데이터분할\n",
        "x_train_id=x_train.iloc[:,0]\n",
        "x_train=x_train.iloc[:,1:]\n",
        "\n",
        "x_test_id=x_test.iloc[:,0]\n",
        "x_test=x_test.iloc[:,1:]\n",
        "\n",
        "y_train=y_train.iloc[:,1]"
      ],
      "metadata": {
        "id": "POQKQFBOEFUm"
      },
      "execution_count": null,
      "outputs": []
    },
    {
      "cell_type": "code",
      "source": [
        "# 데이터 전처리\n",
        "# 범주데이터->숫자형(label encoding)\n",
        "x_train.loc[:, ['주구매상품','주구매지점']]=x_train.loc[:, ['주구매상품','주구매지점']].apply(LabelEncoder().fix_transform)\n",
        "x_test.loc[:, ['주구매상품','주구매지점']]=x_test.loc[:, ['주구매상품','주구매지점']].apply(LabelEncoder().fix_transform)\n",
        "# 결측값 처리\n",
        "x_train.loc[:, ['환불금액']]=x_train.loc[:, ['환불금액']].fillna(0)\n",
        "x_test.loc[:, ['환불금액']]=x_test.loc[:, ['환불금액']].fillna(0)"
      ],
      "metadata": {
        "id": "8fWDxGhxE0tz"
      },
      "execution_count": null,
      "outputs": []
    },
    {
      "cell_type": "code",
      "source": [
        "# train, validation 분할\n",
        "# 회귀일때는 stratify사용x\n",
        "x1,x2,y1,y2=train_test_split(x_train,y_train,test_size=0.3,stratify=y_train)"
      ],
      "metadata": {
        "id": "g8-XcYa0FthU"
      },
      "execution_count": null,
      "outputs": []
    },
    {
      "cell_type": "code",
      "source": [
        "# 모델생성\n",
        "rfc=RandomForestClassifier()\n",
        "rfc.fit(x1,y1)\n",
        "pred=rfc.predict_proba(x2)[:,1]"
      ],
      "metadata": {
        "id": "i1zXRtZtGDLA"
      },
      "execution_count": null,
      "outputs": []
    },
    {
      "cell_type": "code",
      "source": [
        "# score\n",
        "print(roc_auc_score(y2,pred))"
      ],
      "metadata": {
        "id": "8_HziEyhGOY7"
      },
      "execution_count": null,
      "outputs": []
    },
    {
      "cell_type": "code",
      "source": [
        "# test set 제출\n",
        "result_pred=rfc.predict_proba(x_test)[:,1]\n",
        "result_pred-pd.DataFrame(result_pred)\n",
        "result=pd.concat([x_test_id,result_pred],axis=1)\n",
        "result.columns=['cust_id', 'gender']\n",
        "\n",
        "result.to_csv('수험번호.csv', index=False)\n",
        "\n",
        "df=pd.read_csv('수험번호.csv')\n",
        "print(df)"
      ],
      "metadata": {
        "id": "_le29wMlGgxr"
      },
      "execution_count": null,
      "outputs": []
    }
  ]
}